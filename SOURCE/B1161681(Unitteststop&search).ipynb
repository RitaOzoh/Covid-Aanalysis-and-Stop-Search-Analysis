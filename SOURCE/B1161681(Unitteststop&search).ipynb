{
 "cells": [
  {
   "cell_type": "code",
   "execution_count": 1,
   "id": "59abbbc6",
   "metadata": {},
   "outputs": [],
   "source": [
    "import unittest\n",
    "%run B1161681(Stop&Search).ipynb"
   ]
  },
  {
   "cell_type": "code",
   "execution_count": 10,
   "id": "47599e8a",
   "metadata": {},
   "outputs": [],
   "source": [
    "class TestSqrCurve(unittest.TestCase):\n",
    "    def test_plot(self):\n",
    "        self.assertIs(plota,plota)"
   ]
  },
  {
   "cell_type": "code",
   "execution_count": 3,
   "id": "fa0c3156",
   "metadata": {},
   "outputs": [],
   "source": [
    "class TestSqrCurve(unittest.TestCase):\n",
    "    def test_plot(self):\n",
    "        self.assertIs(plotb,plotb)"
   ]
  },
  {
   "cell_type": "code",
   "execution_count": 4,
   "id": "e55877f1",
   "metadata": {},
   "outputs": [],
   "source": [
    "class TestSqrCurve(unittest.TestCase):\n",
    "    def test_plot(self):\n",
    "        self.assertIs(plotc,plotc)"
   ]
  },
  {
   "cell_type": "code",
   "execution_count": 5,
   "id": "61b77cfc",
   "metadata": {},
   "outputs": [],
   "source": [
    "class TestSqrCurve(unittest.TestCase):\n",
    "    def test_plot(self):\n",
    "        self.assertIs(plotd,plotd)"
   ]
  },
  {
   "cell_type": "code",
   "execution_count": 6,
   "id": "477ec073",
   "metadata": {},
   "outputs": [],
   "source": [
    "class TestSqrCurve(unittest.TestCase):\n",
    "    def test_plot(self):\n",
    "        self.assertIs(plote,plote)"
   ]
  },
  {
   "cell_type": "code",
   "execution_count": 7,
   "id": "6ccc044a",
   "metadata": {},
   "outputs": [],
   "source": [
    "class TestSqrCurve(unittest.TestCase):\n",
    "    def test_plot(self):\n",
    "        self.assertIs(plotf,plotf)"
   ]
  },
  {
   "cell_type": "code",
   "execution_count": 8,
   "id": "7c5b3861",
   "metadata": {},
   "outputs": [],
   "source": [
    "class TestSqrCurve(unittest.TestCase):\n",
    "    def test_plot(self):\n",
    "        self.assertIs(plotg,plotg)"
   ]
  },
  {
   "cell_type": "code",
   "execution_count": 11,
   "id": "3a407f79",
   "metadata": {},
   "outputs": [
    {
     "name": "stderr",
     "output_type": "stream",
     "text": [
      ".\n",
      "----------------------------------------------------------------------\n",
      "Ran 1 test in 0.001s\n",
      "\n",
      "OK\n"
     ]
    }
   ],
   "source": [
    "if __name__ == '__main__':\n",
    "    unittest.main(argv=['first-arg-is-ignored'], exit=False)"
   ]
  },
  {
   "cell_type": "code",
   "execution_count": null,
   "id": "6a637dd2",
   "metadata": {},
   "outputs": [],
   "source": []
  }
 ],
 "metadata": {
  "kernelspec": {
   "display_name": "Python 3",
   "language": "python",
   "name": "python3"
  },
  "language_info": {
   "codemirror_mode": {
    "name": "ipython",
    "version": 3
   },
   "file_extension": ".py",
   "mimetype": "text/x-python",
   "name": "python",
   "nbconvert_exporter": "python",
   "pygments_lexer": "ipython3",
   "version": "3.8.8"
  }
 },
 "nbformat": 4,
 "nbformat_minor": 5
}
