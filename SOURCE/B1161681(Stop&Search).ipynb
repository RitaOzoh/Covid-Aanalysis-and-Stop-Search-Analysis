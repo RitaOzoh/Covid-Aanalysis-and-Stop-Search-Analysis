{
 "cells": [
  {
   "cell_type": "markdown",
   "id": "983a7c18",
   "metadata": {},
   "source": [
    "IMPORT PACKAGES"
   ]
  },
  {
   "cell_type": "code",
   "execution_count": 1,
   "id": "4fb934e2",
   "metadata": {},
   "outputs": [],
   "source": [
    "\"Import Libraries\"\n",
    "\n",
    "from urllib.request import urlopen\n",
    "import json as js\n",
    "from urllib.parse import urlencode\n",
    "import pandas as pd\n",
    "import matplotlib.pyplot as plt"
   ]
  },
  {
   "cell_type": "markdown",
   "id": "204ae2ae",
   "metadata": {},
   "source": [
    "DATA COLLECTION"
   ]
  },
  {
   "cell_type": "code",
   "execution_count": 2,
   "id": "cebfebfa",
   "metadata": {},
   "outputs": [],
   "source": [
    "source=\"https://data.police.uk/api/forces\"  # Source of the API Documentation\n",
    "source_request=urlopen(source)\n",
    "force_id=source_request.read()\n",
    "force_ids=js.loads(force_id)              \n",
    "ids=list()\n",
    "for id in force_ids:\n",
    "    id=id[\"id\"]\n",
    "    ids.append(id)\n",
    "\n",
    "source_url=\"https://data.police.uk/api/stops-force?\""
   ]
  },
  {
   "cell_type": "code",
   "execution_count": 3,
   "id": "b3d207d3",
   "metadata": {},
   "outputs": [],
   "source": [
    "age_range=list()\n",
    "self_defined_ethnicity=list()\n",
    "outcome_linked_to_object_of_search=list()\n",
    "datetime=list()\n",
    "removal_of_more_than_outer_clothing=list()\n",
    "operation=list()\n",
    "officer_defined_ethnicity=list()\n",
    "object_of_search=list()\n",
    "involved_person=list()\n",
    "gender=list()\n",
    "legislation=list()\n",
    "location=list()\n",
    "outcome=list()\n",
    "type_=list()\n",
    "operation_name=list()\n",
    "force_ids=list()"
   ]
  },
  {
   "cell_type": "code",
   "execution_count": 4,
   "id": "fab56761",
   "metadata": {},
   "outputs": [],
   "source": [
    "for id in ids:\n",
    "    params=dict()                                     \n",
    "    params[\"force\"]=id  \n",
    "    params[\"date\"]=\"2021-03\"                            \n",
    "    origin_url=urlencode(params)                   \n",
    "    url=source_url+origin_url\n",
    "    \n",
    "    try:\n",
    "        source_stop_searches=urlopen(url)\n",
    "    except:\n",
    "        continue \n",
    "    stop_searches=source_stop_searches.read()\n",
    "    json_stop_searches=js.loads(stop_searches)         \n",
    "\n",
    "     \n",
    "\n",
    "    for json_stop_search in json_stop_searches:\n",
    "        force_ids.append(id)\n",
    "        age_range.append(json_stop_search['age_range'])\n",
    "        self_defined_ethnicity.append(json_stop_search['self_defined_ethnicity'])\n",
    "        outcome_linked_to_object_of_search.append(json_stop_search['outcome_linked_to_object_of_search'])\n",
    "        datetime.append(json_stop_search['datetime'])\n",
    "        removal_of_more_than_outer_clothing.append(json_stop_search['removal_of_more_than_outer_clothing'])\n",
    "        officer_defined_ethnicity.append(json_stop_search['officer_defined_ethnicity'])\n",
    "        object_of_search.append(json_stop_search['object_of_search'])\n",
    "        involved_person.append(json_stop_search['involved_person'])\n",
    "        gender.append(json_stop_search['gender'])\n",
    "        legislation.append(json_stop_search['legislation'])\n",
    "        location.append(json_stop_search['location'])\n",
    "        outcome.append(json_stop_search['outcome'])\n",
    "        type_.append(json_stop_search['type'])\n",
    "        operation_name.append(json_stop_search['operation_name'])\n",
    "        operation.append(json_stop_search['operation'])"
   ]
  },
  {
   "cell_type": "code",
   "execution_count": 5,
   "id": "44ccaf4a",
   "metadata": {},
   "outputs": [],
   "source": [
    "\"A Dictionary is created for the collected data\"\n",
    "\n",
    "collected_data={'age_range':age_range,\n",
    "'self_defined_ethnicity':self_defined_ethnicity,\n",
    "'outcome_linked_to_object_of_search':outcome_linked_to_object_of_search,\n",
    "'datetime':datetime,\n",
    "'removal_of_more_than_outer_clothing':removal_of_more_than_outer_clothing,\n",
    "'operation':operation,\n",
    "'officer_defined_ethnicity':officer_defined_ethnicity,\n",
    "'object_of_search':object_of_search,\n",
    "'involved_person':involved_person,\n",
    "'gender':gender,\n",
    "'legislation':legislation,\n",
    "'location':location,\n",
    "'outcome':outcome,\n",
    "'type_':type_,\n",
    "'operation_name':operation_name,\n",
    "'force_ids':force_ids}"
   ]
  },
  {
   "cell_type": "code",
   "execution_count": 6,
   "id": "0cda4779",
   "metadata": {},
   "outputs": [
    {
     "data": {
      "text/html": [
       "<div>\n",
       "<style scoped>\n",
       "    .dataframe tbody tr th:only-of-type {\n",
       "        vertical-align: middle;\n",
       "    }\n",
       "\n",
       "    .dataframe tbody tr th {\n",
       "        vertical-align: top;\n",
       "    }\n",
       "\n",
       "    .dataframe thead th {\n",
       "        text-align: right;\n",
       "    }\n",
       "</style>\n",
       "<table border=\"1\" class=\"dataframe\">\n",
       "  <thead>\n",
       "    <tr style=\"text-align: right;\">\n",
       "      <th></th>\n",
       "      <th>age_range</th>\n",
       "      <th>self_defined_ethnicity</th>\n",
       "      <th>outcome_linked_to_object_of_search</th>\n",
       "      <th>datetime</th>\n",
       "      <th>removal_of_more_than_outer_clothing</th>\n",
       "      <th>operation</th>\n",
       "      <th>officer_defined_ethnicity</th>\n",
       "      <th>object_of_search</th>\n",
       "      <th>involved_person</th>\n",
       "      <th>gender</th>\n",
       "      <th>legislation</th>\n",
       "      <th>location</th>\n",
       "      <th>outcome</th>\n",
       "      <th>type_</th>\n",
       "      <th>operation_name</th>\n",
       "      <th>force_ids</th>\n",
       "    </tr>\n",
       "  </thead>\n",
       "  <tbody>\n",
       "    <tr>\n",
       "      <th>0</th>\n",
       "      <td>25-34</td>\n",
       "      <td>White - English/Welsh/Scottish/Northern Irish/...</td>\n",
       "      <td>None</td>\n",
       "      <td>2021-03-05T09:30:00+00:00</td>\n",
       "      <td>False</td>\n",
       "      <td>None</td>\n",
       "      <td>White</td>\n",
       "      <td>Controlled drugs</td>\n",
       "      <td>True</td>\n",
       "      <td>Male</td>\n",
       "      <td>Misuse of Drugs Act 1971 (section 23)</td>\n",
       "      <td>{'latitude': '51.407437', 'street': {'id': 539...</td>\n",
       "      <td>Arrest</td>\n",
       "      <td>Person search</td>\n",
       "      <td>None</td>\n",
       "      <td>avon-and-somerset</td>\n",
       "    </tr>\n",
       "    <tr>\n",
       "      <th>1</th>\n",
       "      <td>18-24</td>\n",
       "      <td>Mixed/Multiple ethnic groups - White and Black...</td>\n",
       "      <td>True</td>\n",
       "      <td>2021-03-03T20:10:00+00:00</td>\n",
       "      <td>False</td>\n",
       "      <td>None</td>\n",
       "      <td>Mixed</td>\n",
       "      <td>Controlled drugs</td>\n",
       "      <td>True</td>\n",
       "      <td>Male</td>\n",
       "      <td>Misuse of Drugs Act 1971 (section 23)</td>\n",
       "      <td>{'latitude': '51.504091', 'street': {'id': 547...</td>\n",
       "      <td>Arrest</td>\n",
       "      <td>Person search</td>\n",
       "      <td>None</td>\n",
       "      <td>avon-and-somerset</td>\n",
       "    </tr>\n",
       "    <tr>\n",
       "      <th>2</th>\n",
       "      <td>over 34</td>\n",
       "      <td>White - English/Welsh/Scottish/Northern Irish/...</td>\n",
       "      <td>None</td>\n",
       "      <td>2021-03-29T15:45:00+00:00</td>\n",
       "      <td>False</td>\n",
       "      <td>None</td>\n",
       "      <td>White</td>\n",
       "      <td>Controlled drugs</td>\n",
       "      <td>True</td>\n",
       "      <td>Male</td>\n",
       "      <td>Misuse of Drugs Act 1971 (section 23)</td>\n",
       "      <td>{'latitude': '51.362018', 'street': {'id': 538...</td>\n",
       "      <td>A no further action disposal</td>\n",
       "      <td>Person search</td>\n",
       "      <td>None</td>\n",
       "      <td>avon-and-somerset</td>\n",
       "    </tr>\n",
       "  </tbody>\n",
       "</table>\n",
       "</div>"
      ],
      "text/plain": [
       "  age_range                             self_defined_ethnicity  \\\n",
       "0     25-34  White - English/Welsh/Scottish/Northern Irish/...   \n",
       "1     18-24  Mixed/Multiple ethnic groups - White and Black...   \n",
       "2   over 34  White - English/Welsh/Scottish/Northern Irish/...   \n",
       "\n",
       "  outcome_linked_to_object_of_search                   datetime  \\\n",
       "0                               None  2021-03-05T09:30:00+00:00   \n",
       "1                               True  2021-03-03T20:10:00+00:00   \n",
       "2                               None  2021-03-29T15:45:00+00:00   \n",
       "\n",
       "  removal_of_more_than_outer_clothing operation officer_defined_ethnicity  \\\n",
       "0                               False      None                     White   \n",
       "1                               False      None                     Mixed   \n",
       "2                               False      None                     White   \n",
       "\n",
       "   object_of_search  involved_person gender  \\\n",
       "0  Controlled drugs             True   Male   \n",
       "1  Controlled drugs             True   Male   \n",
       "2  Controlled drugs             True   Male   \n",
       "\n",
       "                             legislation  \\\n",
       "0  Misuse of Drugs Act 1971 (section 23)   \n",
       "1  Misuse of Drugs Act 1971 (section 23)   \n",
       "2  Misuse of Drugs Act 1971 (section 23)   \n",
       "\n",
       "                                            location  \\\n",
       "0  {'latitude': '51.407437', 'street': {'id': 539...   \n",
       "1  {'latitude': '51.504091', 'street': {'id': 547...   \n",
       "2  {'latitude': '51.362018', 'street': {'id': 538...   \n",
       "\n",
       "                        outcome          type_ operation_name  \\\n",
       "0                        Arrest  Person search           None   \n",
       "1                        Arrest  Person search           None   \n",
       "2  A no further action disposal  Person search           None   \n",
       "\n",
       "           force_ids  \n",
       "0  avon-and-somerset  \n",
       "1  avon-and-somerset  \n",
       "2  avon-and-somerset  "
      ]
     },
     "execution_count": 6,
     "metadata": {},
     "output_type": "execute_result"
    }
   ],
   "source": [
    "\"Make the collected Data into a Dataframe\"\n",
    "df=pd.DataFrame(collected_data)\n",
    "df.head(3)"
   ]
  },
  {
   "cell_type": "markdown",
   "id": "5319dd19",
   "metadata": {},
   "source": [
    "DATA PRE-PROCESSING"
   ]
  },
  {
   "cell_type": "code",
   "execution_count": 7,
   "id": "c3e11a35",
   "metadata": {},
   "outputs": [
    {
     "data": {
      "text/html": [
       "<div>\n",
       "<style scoped>\n",
       "    .dataframe tbody tr th:only-of-type {\n",
       "        vertical-align: middle;\n",
       "    }\n",
       "\n",
       "    .dataframe tbody tr th {\n",
       "        vertical-align: top;\n",
       "    }\n",
       "\n",
       "    .dataframe thead th {\n",
       "        text-align: right;\n",
       "    }\n",
       "</style>\n",
       "<table border=\"1\" class=\"dataframe\">\n",
       "  <thead>\n",
       "    <tr style=\"text-align: right;\">\n",
       "      <th></th>\n",
       "      <th>age_range</th>\n",
       "      <th>self_defined_ethnicity</th>\n",
       "      <th>outcome_linked_to_object_of_search</th>\n",
       "      <th>datetime</th>\n",
       "      <th>removal_of_more_than_outer_clothing</th>\n",
       "      <th>operation</th>\n",
       "      <th>officer_defined_ethnicity</th>\n",
       "      <th>object_of_search</th>\n",
       "      <th>involved_person</th>\n",
       "      <th>gender</th>\n",
       "      <th>legislation</th>\n",
       "      <th>location</th>\n",
       "      <th>outcome</th>\n",
       "      <th>type_</th>\n",
       "      <th>operation_name</th>\n",
       "      <th>force_ids</th>\n",
       "    </tr>\n",
       "  </thead>\n",
       "  <tbody>\n",
       "    <tr>\n",
       "      <th>count</th>\n",
       "      <td>27490</td>\n",
       "      <td>29113</td>\n",
       "      <td>13596</td>\n",
       "      <td>31462</td>\n",
       "      <td>22307</td>\n",
       "      <td>13358</td>\n",
       "      <td>27237</td>\n",
       "      <td>23067</td>\n",
       "      <td>31462</td>\n",
       "      <td>27430</td>\n",
       "      <td>28967</td>\n",
       "      <td>24238</td>\n",
       "      <td>31462</td>\n",
       "      <td>31462</td>\n",
       "      <td>0</td>\n",
       "      <td>31462</td>\n",
       "    </tr>\n",
       "    <tr>\n",
       "      <th>unique</th>\n",
       "      <td>5</td>\n",
       "      <td>19</td>\n",
       "      <td>2</td>\n",
       "      <td>18987</td>\n",
       "      <td>2</td>\n",
       "      <td>2</td>\n",
       "      <td>5</td>\n",
       "      <td>15</td>\n",
       "      <td>2</td>\n",
       "      <td>3</td>\n",
       "      <td>10</td>\n",
       "      <td>13765</td>\n",
       "      <td>8</td>\n",
       "      <td>3</td>\n",
       "      <td>0</td>\n",
       "      <td>41</td>\n",
       "    </tr>\n",
       "    <tr>\n",
       "      <th>top</th>\n",
       "      <td>18-24</td>\n",
       "      <td>White - English/Welsh/Scottish/Northern Irish/...</td>\n",
       "      <td>False</td>\n",
       "      <td>2021-03-21T00:00:00+00:00</td>\n",
       "      <td>False</td>\n",
       "      <td>False</td>\n",
       "      <td>White</td>\n",
       "      <td>Controlled drugs</td>\n",
       "      <td>True</td>\n",
       "      <td>Male</td>\n",
       "      <td>Misuse of Drugs Act 1971 (section 23)</td>\n",
       "      <td>{'latitude': '53.421185', 'street': {'id': 914...</td>\n",
       "      <td>A no further action disposal</td>\n",
       "      <td>Person search</td>\n",
       "      <td>NaN</td>\n",
       "      <td>merseyside</td>\n",
       "    </tr>\n",
       "    <tr>\n",
       "      <th>freq</th>\n",
       "      <td>9417</td>\n",
       "      <td>18677</td>\n",
       "      <td>8146</td>\n",
       "      <td>191</td>\n",
       "      <td>21587</td>\n",
       "      <td>12540</td>\n",
       "      <td>21636</td>\n",
       "      <td>14696</td>\n",
       "      <td>30225</td>\n",
       "      <td>24105</td>\n",
       "      <td>19913</td>\n",
       "      <td>66</td>\n",
       "      <td>22856</td>\n",
       "      <td>23054</td>\n",
       "      <td>NaN</td>\n",
       "      <td>5041</td>\n",
       "    </tr>\n",
       "  </tbody>\n",
       "</table>\n",
       "</div>"
      ],
      "text/plain": [
       "       age_range                             self_defined_ethnicity  \\\n",
       "count      27490                                              29113   \n",
       "unique         5                                                 19   \n",
       "top        18-24  White - English/Welsh/Scottish/Northern Irish/...   \n",
       "freq        9417                                              18677   \n",
       "\n",
       "       outcome_linked_to_object_of_search                   datetime  \\\n",
       "count                               13596                      31462   \n",
       "unique                                  2                      18987   \n",
       "top                                 False  2021-03-21T00:00:00+00:00   \n",
       "freq                                 8146                        191   \n",
       "\n",
       "       removal_of_more_than_outer_clothing operation  \\\n",
       "count                                22307     13358   \n",
       "unique                                   2         2   \n",
       "top                                  False     False   \n",
       "freq                                 21587     12540   \n",
       "\n",
       "       officer_defined_ethnicity  object_of_search involved_person gender  \\\n",
       "count                      27237             23067           31462  27430   \n",
       "unique                         5                15               2      3   \n",
       "top                        White  Controlled drugs            True   Male   \n",
       "freq                       21636             14696           30225  24105   \n",
       "\n",
       "                                  legislation  \\\n",
       "count                                   28967   \n",
       "unique                                     10   \n",
       "top     Misuse of Drugs Act 1971 (section 23)   \n",
       "freq                                    19913   \n",
       "\n",
       "                                                 location  \\\n",
       "count                                               24238   \n",
       "unique                                              13765   \n",
       "top     {'latitude': '53.421185', 'street': {'id': 914...   \n",
       "freq                                                   66   \n",
       "\n",
       "                             outcome          type_ operation_name   force_ids  \n",
       "count                          31462          31462              0       31462  \n",
       "unique                             8              3              0          41  \n",
       "top     A no further action disposal  Person search            NaN  merseyside  \n",
       "freq                           22856          23054            NaN        5041  "
      ]
     },
     "execution_count": 7,
     "metadata": {},
     "output_type": "execute_result"
    }
   ],
   "source": [
    "df.describe()"
   ]
  },
  {
   "cell_type": "code",
   "execution_count": 8,
   "id": "df9d6cca",
   "metadata": {},
   "outputs": [],
   "source": [
    "'The hour is extracted'\n",
    "\n",
    "df['datetime']= pd.to_datetime(df['datetime'])\n",
    "df['Hour']=df['datetime'].dt.hour\n",
    "df.drop('datetime', axis=1, inplace=True)\n",
    "\n",
    "\n",
    "'Name of Streets is extracted from the location column'\n",
    "\n",
    "streets=list()\n",
    "for i in df['location'].values:\n",
    "    try:\n",
    "        streets.append(i['street']['name'])\n",
    "    except:\n",
    "        streets.append('None')\n",
    "    \n",
    "df['location']=streets"
   ]
  },
  {
   "cell_type": "code",
   "execution_count": 9,
   "id": "dc4ef76f",
   "metadata": {},
   "outputs": [
    {
     "data": {
      "text/plain": [
       "(31462, 16)"
      ]
     },
     "execution_count": 9,
     "metadata": {},
     "output_type": "execute_result"
    }
   ],
   "source": [
    "df.shape"
   ]
  },
  {
   "cell_type": "code",
   "execution_count": 10,
   "id": "17bd9457",
   "metadata": {},
   "outputs": [
    {
     "data": {
      "text/plain": [
       "age_range                               3972\n",
       "self_defined_ethnicity                  2349\n",
       "outcome_linked_to_object_of_search     17866\n",
       "removal_of_more_than_outer_clothing     9155\n",
       "operation                              18104\n",
       "officer_defined_ethnicity               4225\n",
       "object_of_search                        8395\n",
       "involved_person                            0\n",
       "gender                                  4032\n",
       "legislation                             2495\n",
       "location                                   0\n",
       "outcome                                    0\n",
       "type_                                      0\n",
       "operation_name                         31462\n",
       "force_ids                                  0\n",
       "Hour                                       0\n",
       "dtype: int64"
      ]
     },
     "execution_count": 10,
     "metadata": {},
     "output_type": "execute_result"
    }
   ],
   "source": [
    "df.isnull().sum()"
   ]
  },
  {
   "cell_type": "code",
   "execution_count": 11,
   "id": "06b5ddf7",
   "metadata": {},
   "outputs": [],
   "source": [
    "\"The column (operation_name) is dropped, then the remaining null values are replaced with unspecified\"\n",
    "\n",
    "df.drop('operation_name', axis=1,inplace=True)\n",
    "df.fillna('Unspecified',inplace=True)"
   ]
  },
  {
   "cell_type": "code",
   "execution_count": 12,
   "id": "302b0814",
   "metadata": {},
   "outputs": [
    {
     "data": {
      "text/html": [
       "<div>\n",
       "<style scoped>\n",
       "    .dataframe tbody tr th:only-of-type {\n",
       "        vertical-align: middle;\n",
       "    }\n",
       "\n",
       "    .dataframe tbody tr th {\n",
       "        vertical-align: top;\n",
       "    }\n",
       "\n",
       "    .dataframe thead th {\n",
       "        text-align: right;\n",
       "    }\n",
       "</style>\n",
       "<table border=\"1\" class=\"dataframe\">\n",
       "  <thead>\n",
       "    <tr style=\"text-align: right;\">\n",
       "      <th></th>\n",
       "      <th>age_range</th>\n",
       "      <th>self_defined_ethnicity</th>\n",
       "      <th>outcome_linked_to_object_of_search</th>\n",
       "      <th>removal_of_more_than_outer_clothing</th>\n",
       "      <th>operation</th>\n",
       "      <th>officer_defined_ethnicity</th>\n",
       "      <th>object_of_search</th>\n",
       "      <th>involved_person</th>\n",
       "      <th>gender</th>\n",
       "      <th>legislation</th>\n",
       "      <th>location</th>\n",
       "      <th>outcome</th>\n",
       "      <th>type_</th>\n",
       "      <th>force_ids</th>\n",
       "      <th>Hour</th>\n",
       "    </tr>\n",
       "  </thead>\n",
       "  <tbody>\n",
       "    <tr>\n",
       "      <th>0</th>\n",
       "      <td>25-34</td>\n",
       "      <td>White - English/Welsh/Scottish/Northern Irish/...</td>\n",
       "      <td>Unspecified</td>\n",
       "      <td>False</td>\n",
       "      <td>Unspecified</td>\n",
       "      <td>White</td>\n",
       "      <td>Controlled drugs</td>\n",
       "      <td>True</td>\n",
       "      <td>Male</td>\n",
       "      <td>Misuse of Drugs Act 1971 (section 23)</td>\n",
       "      <td>On or near The Brambles</td>\n",
       "      <td>Arrest</td>\n",
       "      <td>Person search</td>\n",
       "      <td>avon-and-somerset</td>\n",
       "      <td>9</td>\n",
       "    </tr>\n",
       "    <tr>\n",
       "      <th>1</th>\n",
       "      <td>18-24</td>\n",
       "      <td>Mixed/Multiple ethnic groups - White and Black...</td>\n",
       "      <td>True</td>\n",
       "      <td>False</td>\n",
       "      <td>Unspecified</td>\n",
       "      <td>Mixed</td>\n",
       "      <td>Controlled drugs</td>\n",
       "      <td>True</td>\n",
       "      <td>Male</td>\n",
       "      <td>Misuse of Drugs Act 1971 (section 23)</td>\n",
       "      <td>On or near Roman Farm Court</td>\n",
       "      <td>Arrest</td>\n",
       "      <td>Person search</td>\n",
       "      <td>avon-and-somerset</td>\n",
       "      <td>20</td>\n",
       "    </tr>\n",
       "    <tr>\n",
       "      <th>2</th>\n",
       "      <td>over 34</td>\n",
       "      <td>White - English/Welsh/Scottish/Northern Irish/...</td>\n",
       "      <td>Unspecified</td>\n",
       "      <td>False</td>\n",
       "      <td>Unspecified</td>\n",
       "      <td>White</td>\n",
       "      <td>Controlled drugs</td>\n",
       "      <td>True</td>\n",
       "      <td>Male</td>\n",
       "      <td>Misuse of Drugs Act 1971 (section 23)</td>\n",
       "      <td>On or near River Walk</td>\n",
       "      <td>A no further action disposal</td>\n",
       "      <td>Person search</td>\n",
       "      <td>avon-and-somerset</td>\n",
       "      <td>15</td>\n",
       "    </tr>\n",
       "    <tr>\n",
       "      <th>3</th>\n",
       "      <td>25-34</td>\n",
       "      <td>Unspecified</td>\n",
       "      <td>True</td>\n",
       "      <td>False</td>\n",
       "      <td>Unspecified</td>\n",
       "      <td>Unspecified</td>\n",
       "      <td>Evidence of offences under the Act</td>\n",
       "      <td>True</td>\n",
       "      <td>Male</td>\n",
       "      <td>Police and Criminal Evidence Act 1984 (section 1)</td>\n",
       "      <td>On or near Crofton Avenue</td>\n",
       "      <td>Arrest</td>\n",
       "      <td>Person search</td>\n",
       "      <td>avon-and-somerset</td>\n",
       "      <td>11</td>\n",
       "    </tr>\n",
       "    <tr>\n",
       "      <th>4</th>\n",
       "      <td>over 34</td>\n",
       "      <td>White - English/Welsh/Scottish/Northern Irish/...</td>\n",
       "      <td>True</td>\n",
       "      <td>False</td>\n",
       "      <td>Unspecified</td>\n",
       "      <td>White</td>\n",
       "      <td>Controlled drugs</td>\n",
       "      <td>True</td>\n",
       "      <td>Female</td>\n",
       "      <td>Misuse of Drugs Act 1971 (section 23)</td>\n",
       "      <td>None</td>\n",
       "      <td>A no further action disposal</td>\n",
       "      <td>Person search</td>\n",
       "      <td>avon-and-somerset</td>\n",
       "      <td>11</td>\n",
       "    </tr>\n",
       "  </tbody>\n",
       "</table>\n",
       "</div>"
      ],
      "text/plain": [
       "  age_range                             self_defined_ethnicity  \\\n",
       "0     25-34  White - English/Welsh/Scottish/Northern Irish/...   \n",
       "1     18-24  Mixed/Multiple ethnic groups - White and Black...   \n",
       "2   over 34  White - English/Welsh/Scottish/Northern Irish/...   \n",
       "3     25-34                                        Unspecified   \n",
       "4   over 34  White - English/Welsh/Scottish/Northern Irish/...   \n",
       "\n",
       "  outcome_linked_to_object_of_search removal_of_more_than_outer_clothing  \\\n",
       "0                        Unspecified                               False   \n",
       "1                               True                               False   \n",
       "2                        Unspecified                               False   \n",
       "3                               True                               False   \n",
       "4                               True                               False   \n",
       "\n",
       "     operation officer_defined_ethnicity                    object_of_search  \\\n",
       "0  Unspecified                     White                    Controlled drugs   \n",
       "1  Unspecified                     Mixed                    Controlled drugs   \n",
       "2  Unspecified                     White                    Controlled drugs   \n",
       "3  Unspecified               Unspecified  Evidence of offences under the Act   \n",
       "4  Unspecified                     White                    Controlled drugs   \n",
       "\n",
       "   involved_person  gender                                        legislation  \\\n",
       "0             True    Male              Misuse of Drugs Act 1971 (section 23)   \n",
       "1             True    Male              Misuse of Drugs Act 1971 (section 23)   \n",
       "2             True    Male              Misuse of Drugs Act 1971 (section 23)   \n",
       "3             True    Male  Police and Criminal Evidence Act 1984 (section 1)   \n",
       "4             True  Female              Misuse of Drugs Act 1971 (section 23)   \n",
       "\n",
       "                      location                       outcome          type_  \\\n",
       "0      On or near The Brambles                        Arrest  Person search   \n",
       "1  On or near Roman Farm Court                        Arrest  Person search   \n",
       "2        On or near River Walk  A no further action disposal  Person search   \n",
       "3    On or near Crofton Avenue                        Arrest  Person search   \n",
       "4                         None  A no further action disposal  Person search   \n",
       "\n",
       "           force_ids  Hour  \n",
       "0  avon-and-somerset     9  \n",
       "1  avon-and-somerset    20  \n",
       "2  avon-and-somerset    15  \n",
       "3  avon-and-somerset    11  \n",
       "4  avon-and-somerset    11  "
      ]
     },
     "execution_count": 12,
     "metadata": {},
     "output_type": "execute_result"
    }
   ],
   "source": [
    "df.head()"
   ]
  },
  {
   "cell_type": "code",
   "execution_count": 13,
   "id": "1bf6ded4",
   "metadata": {},
   "outputs": [
    {
     "data": {
      "text/plain": [
       "array(['avon-and-somerset', 'bedfordshire', 'cambridgeshire', 'cheshire',\n",
       "       'city-of-london', 'cleveland', 'cumbria', 'derbyshire',\n",
       "       'devon-and-cornwall', 'dorset', 'durham', 'dyfed-powys', 'essex',\n",
       "       'gloucestershire', 'gwent', 'hampshire', 'hertfordshire',\n",
       "       'humberside', 'kent', 'lancashire', 'leicestershire',\n",
       "       'lincolnshire', 'merseyside', 'norfolk', 'north-wales',\n",
       "       'north-yorkshire', 'northamptonshire', 'northumbria',\n",
       "       'nottinghamshire', 'south-wales', 'south-yorkshire',\n",
       "       'staffordshire', 'suffolk', 'surrey', 'sussex', 'thames-valley',\n",
       "       'warwickshire', 'west-mercia', 'west-midlands', 'west-yorkshire',\n",
       "       'wiltshire'], dtype=object)"
      ]
     },
     "execution_count": 13,
     "metadata": {},
     "output_type": "execute_result"
    }
   ],
   "source": [
    "df['force_ids'].unique()"
   ]
  },
  {
   "cell_type": "markdown",
   "id": "6928c700",
   "metadata": {},
   "source": [
    "DATA VISUALISATION"
   ]
  },
  {
   "cell_type": "code",
   "execution_count": 22,
   "id": "3bebe2aa",
   "metadata": {},
   "outputs": [
    {
     "data": {
      "image/png": "[encoded data removed]",
      "text/plain": [
       "<Figure size 1080x576 with 1 Axes>"
      ]
     },
     "metadata": {
      "needs_background": "light"
     },
     "output_type": "display_data"
    }
   ],
   "source": [
    "def plota():\n",
    "    df_cleveland = df[df['force_ids'] == 'cleveland']\n",
    "    fig, ax = plt.subplots(figsize=(15,8))\n",
    "    import seaborn as sns\n",
    "    ax = sns.countplot(x=df_cleveland['age_range'])\n",
    "    ax.set_xlabel('Age-range')\n",
    "    ax.set_ylabel('Count')\n",
    "    ax.set_title('Number of Stop and Search in each age group for Cleveland Police')\n",
    "    for i in ax.patches:\n",
    "        ax.annotate(format(i.get_height()), (i.get_x() + i.get_width() / 2., i.get_height()), ha='center',\n",
    "                     va='center', xytext=(0, 10), textcoords='offset points', fontsize=12)\n",
    "    \n",
    "plota()    \n",
    "plt.show()"
   ]
  },
  {
   "cell_type": "markdown",
   "id": "7664798a",
   "metadata": {},
   "source": [
    "Each Gender"
   ]
  },
  {
   "cell_type": "code",
   "execution_count": 21,
   "id": "f4d793a9",
   "metadata": {},
   "outputs": [
    {
     "data": {
      "image/png": "[encoded data removed]",
      "text/plain": [
       "<Figure size 1080x576 with 1 Axes>"
      ]
     },
     "metadata": {
      "needs_background": "light"
     },
     "output_type": "display_data"
    }
   ],
   "source": [
    "def plotb():\n",
    "    fig, ax = plt.subplots(figsize=(15,8))\n",
    "    import seaborn as sns\n",
    "    ax = sns.countplot(x=df['gender'])\n",
    "    ax.set_xlabel('Gender')\n",
    "    ax.set_ylabel('Count')\n",
    "    ax.set_title('Number of Stop and Search in for each Gender')\n",
    "    for i in ax.patches:\n",
    "        ax.annotate(format(i.get_height()), (i.get_x() + i.get_width() / 2., i.get_height()), ha='center',\n",
    "                     va='center', xytext=(0, 10), textcoords='offset points', fontsize=12)\n",
    "plotb()    \n",
    "plt.show()"
   ]
  },
  {
   "cell_type": "markdown",
   "id": "56c1b5b6",
   "metadata": {},
   "source": [
    "Ethnic Group Across Cleveland Police"
   ]
  },
  {
   "cell_type": "code",
   "execution_count": 23,
   "id": "c42fa265",
   "metadata": {},
   "outputs": [
    {
     "data": {
      "image/png": "[encoded data removed]",
      "text/plain": [
       "<Figure size 1080x576 with 1 Axes>"
      ]
     },
     "metadata": {
      "needs_background": "light"
     },
     "output_type": "display_data"
    }
   ],
   "source": [
    "def plotc():\n",
    "    df_cleveland = df[df['force_ids'] == 'cleveland']\n",
    "    fig, ax = plt.subplots(figsize=(15,8))\n",
    "    import seaborn as sns\n",
    "    ax = sns.countplot(x=df_cleveland['officer_defined_ethnicity'])\n",
    "    ax.set_xlabel('Ethnicity')\n",
    "    ax.set_ylabel('Count')\n",
    "    ax.set_title('Number of Stop and Search in each different officer defined Ethnicities for Cleveland Police')\n",
    "    for i in ax.patches:\n",
    "        ax.annotate(format(i.get_height()), (i.get_x() + i.get_width() / 2., i.get_height()), ha='center',\n",
    "                     va='center', xytext=(0, 10), textcoords='offset points', fontsize=12)\n",
    "plotc()    \n",
    "plt.show()"
   ]
  },
  {
   "cell_type": "code",
   "execution_count": 26,
   "id": "7e344523",
   "metadata": {},
   "outputs": [
    {
     "data": {
      "image/png": "[encoded data removed]",
      "text/plain": [
       "<Figure size 1080x576 with 1 Axes>"
      ]
     },
     "metadata": {
      "needs_background": "light"
     },
     "output_type": "display_data"
    }
   ],
   "source": [
    "def plotd():\n",
    "    fig, ax = plt.subplots(figsize=(15,8))\n",
    "    import seaborn as sns\n",
    "    ax = sns.countplot(x=df['age_range'])\n",
    "    ax.set_xlabel('age_range')\n",
    "    ax.set_ylabel('Count')\n",
    "    ax.set_title('Number of Stop and Search in each age group')\n",
    "    for i in ax.patches:\n",
    "        ax.annotate(format(i.get_height()), (i.get_x() + i.get_width() / 2., i.get_height()), ha='center',\n",
    "                     va='center', xytext=(0, 10), textcoords='offset points', fontsize=12)\n",
    "plotd()    \n",
    "plt.show()"
   ]
  },
  {
   "cell_type": "code",
   "execution_count": 18,
   "id": "7874d169",
   "metadata": {},
   "outputs": [],
   "source": [
    "def plote():\n",
    "  df['force_ids'].value_counts().to_frame().sample(frac=1).plot(kind='line', figsize=(15,8))\n",
    "\n",
    "  plt.xlabel('Force')\n",
    "  plt.ylabel('Count')\n",
    "  plt.title('Line graph showing the number of stop and search by force for each force')\n",
    "plote()  \n",
    "plt.show()"
   ]
  },
  {
   "cell_type": "code",
   "execution_count": 25,
   "id": "9f3de55b",
   "metadata": {},
   "outputs": [
    {
     "data": {
      "image/png": "[encoded data removed]",
      "text/plain": [
       "<Figure size 1080x576 with 1 Axes>"
      ]
     },
     "metadata": {
      "needs_background": "light"
     },
     "output_type": "display_data"
    }
   ],
   "source": [
    "def plotf():\n",
    "  df.groupby('removal_of_more_than_outer_clothing')['object_of_search'].value_counts().to_frame().rename(columns={'object_of_search':'count'}).\\\n",
    "  reset_index().pivot(\"removal_of_more_than_outer_clothing\", 'object_of_search',\t'count').plot(kind='bar', stacked=True, width=0.3, figsize=(15,8))\n",
    "  plt.ylabel('Count')\n",
    "  plt.title('Stacked bar chart showing trend for the \"removal_of_more_than_outer_clothing\" and \"object_of_search\" ')\n",
    "plotf()  \n",
    "plt.show()"
   ]
  },
  {
   "cell_type": "code",
   "execution_count": 24,
   "id": "9a3db721",
   "metadata": {},
   "outputs": [
    {
     "data": {
      "image/png": "[encoded data removed]",
      "text/plain": [
       "<Figure size 1080x576 with 1 Axes>"
      ]
     },
     "metadata": {
      "needs_background": "light"
     },
     "output_type": "display_data"
    }
   ],
   "source": [
    "def plotg():\n",
    "  df.groupby('removal_of_more_than_outer_clothing')['outcome'].value_counts().to_frame().rename(columns={'outcome':'count'}).\\\n",
    "  reset_index().pivot(\"removal_of_more_than_outer_clothing\", 'outcome',\t'count').plot(kind='barh',stacked=True, width=0.5,figsize=(15,8))\n",
    "\n",
    "  plt.xlabel('Count')\n",
    "\n",
    "  plt.title('Stacked bar chart showing trend for the \"removal_of_more_than_outer_clothing\" and \"outcome\" ')\n",
    "  \n",
    "plotg()    \n",
    "plt.show()"
   ]
  },
  {
   "cell_type": "code",
   "execution_count": null,
   "id": "92299c2e",
   "metadata": {},
   "outputs": [],
   "source": []
  }
 ],
 "metadata": {
  "kernelspec": {
   "display_name": "Python 3",
   "language": "python",
   "name": "python3"
  },
  "language_info": {
   "codemirror_mode": {
    "name": "ipython",
    "version": 3
   },
   "file_extension": ".py",
   "mimetype": "text/x-python",
   "name": "python",
   "nbconvert_exporter": "python",
   "pygments_lexer": "ipython3",
   "version": "3.8.8"
  }
 },
 "nbformat": 4,
 "nbformat_minor": 5
}
